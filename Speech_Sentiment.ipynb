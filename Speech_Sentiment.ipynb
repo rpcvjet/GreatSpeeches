{
 "cells": [
  {
   "cell_type": "code",
   "execution_count": 3,
   "metadata": {},
   "outputs": [],
   "source": [
    "import numpy as np\n",
    "import pandas as pd"
   ]
  },
  {
   "cell_type": "code",
   "execution_count": 4,
   "metadata": {},
   "outputs": [
    {
     "data": {
      "text/html": [
       "<div>\n",
       "<style scoped>\n",
       "    .dataframe tbody tr th:only-of-type {\n",
       "        vertical-align: middle;\n",
       "    }\n",
       "\n",
       "    .dataframe tbody tr th {\n",
       "        vertical-align: top;\n",
       "    }\n",
       "\n",
       "    .dataframe thead th {\n",
       "        text-align: right;\n",
       "    }\n",
       "</style>\n",
       "<table border=\"1\" class=\"dataframe\">\n",
       "  <thead>\n",
       "    <tr style=\"text-align: right;\">\n",
       "      <th></th>\n",
       "      <th>speech</th>\n",
       "    </tr>\n",
       "  </thead>\n",
       "  <tbody>\n",
       "    <tr>\n",
       "      <th>Churchill</th>\n",
       "      <td>June 4, 1940 House of Commons From the moment ...</td>\n",
       "    </tr>\n",
       "    <tr>\n",
       "      <th>fdr</th>\n",
       "      <td>March 4, 1933 President Hoover, Mr. Chief Just...</td>\n",
       "    </tr>\n",
       "    <tr>\n",
       "      <th>fredrick</th>\n",
       "      <td>July 5, 1852 Fellow Citizens, I am not wanting...</td>\n",
       "    </tr>\n",
       "    <tr>\n",
       "      <th>ghandi</th>\n",
       "      <td>August 8, 1942 Before you discuss the resoluti...</td>\n",
       "    </tr>\n",
       "    <tr>\n",
       "      <th>jfk</th>\n",
       "      <td>January 20, 1961 Vice President Johnson, Mr. S...</td>\n",
       "    </tr>\n",
       "    <tr>\n",
       "      <th>mlk</th>\n",
       "      <td>August 23, 1968 I am happy to join with you to...</td>\n",
       "    </tr>\n",
       "    <tr>\n",
       "      <th>reagon</th>\n",
       "      <td>June 12, 1987 Thank you. Thank you, very much....</td>\n",
       "    </tr>\n",
       "    <tr>\n",
       "      <th>teddy</th>\n",
       "      <td>Buffalo, New York, January 26, 1883 Of course...</td>\n",
       "    </tr>\n",
       "  </tbody>\n",
       "</table>\n",
       "</div>"
      ],
      "text/plain": [
       "                                                      speech\n",
       "Churchill  June 4, 1940 House of Commons From the moment ...\n",
       "fdr        March 4, 1933 President Hoover, Mr. Chief Just...\n",
       "fredrick   July 5, 1852 Fellow Citizens, I am not wanting...\n",
       "ghandi     August 8, 1942 Before you discuss the resoluti...\n",
       "jfk        January 20, 1961 Vice President Johnson, Mr. S...\n",
       "mlk        August 23, 1968 I am happy to join with you to...\n",
       "reagon     June 12, 1987 Thank you. Thank you, very much....\n",
       "teddy       Buffalo, New York, January 26, 1883 Of course..."
      ]
     },
     "execution_count": 4,
     "metadata": {},
     "output_type": "execute_result"
    }
   ],
   "source": [
    "data = pd.read_pickle('corpus.pkl')\n",
    "data"
   ]
  },
  {
   "cell_type": "code",
   "execution_count": null,
   "metadata": {},
   "outputs": [],
   "source": []
  }
 ],
 "metadata": {
  "kernelspec": {
   "display_name": "Python 3",
   "language": "python",
   "name": "python3"
  },
  "language_info": {
   "codemirror_mode": {
    "name": "ipython",
    "version": 2
   },
   "file_extension": ".py",
   "mimetype": "text/x-python",
   "name": "python",
   "nbconvert_exporter": "python",
   "pygments_lexer": "ipython2",
   "version": "2.7.15"
  }
 },
 "nbformat": 4,
 "nbformat_minor": 2
}
