{
 "cells": [
  {
   "cell_type": "code",
   "execution_count": 2,
   "metadata": {},
   "outputs": [],
   "source": [
    "import requests\n",
    "from bs4 import BeautifulSoup\n",
    "import pickle"
   ]
  },
  {
   "cell_type": "code",
   "execution_count": null,
   "metadata": {},
   "outputs": [],
   "source": [
    "## scraping url\n",
    "\n",
    "def url_to_transcript(url):\n",
    "    page = requests.get(url).text\n",
    "    soup = BeautifulSoup(page, \"lxml\")\n",
    "    text = [p.text for p in soup.find(class_=\"post-content\").find_all('p')]\n",
    "    print(url)\n",
    "    return tex\n",
    "    \n",
    "\n",
    "\n",
    "urls = [\n",
    "    'https://www.artofmanliness.com/we-shall-fight-on-the-beaches-by-winston-churchill/',\n",
    "    'https://www.artofmanliness.com/inaugrual-address-of-john-f-kennedy/',\n",
    "    'https://www.artofmanliness.com/first-inaugural-address-of-franklin-d-roosevelt/',\n",
    "    'https://www.artofmanliness.com/remarks-at-the-brandenburg-gate-by-ronald-regan/',\n",
    "    'https://www.artofmanliness.com/the-meaning-of-july-fourth-for-the-negro-by-frederick-douglas/',\n",
    "    'https://www.artofmanliness.com/i-have-a-dream-by-dr-martin-luther-king/'\n",
    "    \n",
    "]\n",
    "\n",
    "orators = ['Winston Churchill', 'JFK', 'FDR', 'Ronald', 'Frederick','MLK',  ]"
   ]
  }
 ],
 "metadata": {
  "kernelspec": {
   "display_name": "Python 3",
   "language": "python",
   "name": "python3"
  },
  "language_info": {
   "codemirror_mode": {
    "name": "ipython",
    "version": 2
   },
   "file_extension": ".py",
   "mimetype": "text/x-python",
   "name": "python",
   "nbconvert_exporter": "python",
   "pygments_lexer": "ipython2",
   "version": "2.7.15"
  }
 },
 "nbformat": 4,
 "nbformat_minor": 2
}
